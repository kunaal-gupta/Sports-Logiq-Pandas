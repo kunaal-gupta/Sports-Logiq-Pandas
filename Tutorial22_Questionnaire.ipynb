{
 "cells": [
  {
   "cell_type": "markdown",
   "id": "3b9715e6",
   "metadata": {},
   "source": [
    "# Introduction"
   ]
  },
  {
   "cell_type": "markdown",
   "id": "7a482ac9",
   "metadata": {},
   "source": [
    "Important Info:\n",
    "\n",
    "Hi and welcome to the Sportlogiq DA Questionnaire! The goal with this questionnaire is to assess your problem solving, hockey knowledge, and coding/stats abilities and your (hopeful) fit with some of our day-to-day tasks. If you find yourself stuck or unsure on a question, showing your work and explaining your problem solving/decision making is still highly recommended.\n",
    "\n",
    "Libraries:\n",
    "- You'll want to import libraries such as numpy, pandas, a plotting library like plotly/matplotlib, and a stats library of your choosing (sklearn for example)\n",
    "\n",
    "Data Info:\n",
    "- There are two data files. One has a condensed event set from a randomly chosen hockey game and the other contains Expected Goals values (xg) provided only for shots that successfully hit the net. If an xg value doesn't correspond to a shot event, it should not be counted\n",
    "\n",
    "- X and Y Coordinates are in Feet and are adjusted such that both teams shoot in the same direction\n",
    "\n",
    "- Line Carry events are tagged when the puck is carried over either blue line or the centre ice red line\n",
    "\n",
    "- Binary columns that have values of 0 or 1 indicate 0=No, 1=Yes\n",
    "\n",
    "- Successfull passes are completed passes, successful shots are shots on net\n",
    "\n",
    "Please show all work, keep written answers succinct and to the point and most of all, thanks for your time and good luck!"
   ]
  },
  {
   "cell_type": "code",
   "execution_count": null,
   "id": "2d0b5ce9",
   "metadata": {},
   "outputs": [],
   "source": []
  },
  {
   "cell_type": "markdown",
   "id": "76a61952",
   "metadata": {},
   "source": [
    "## Q1) \n",
    "### a) Who won the game & what was the score?\n",
    "### b) Who won the Expected Goals (xg) battle & what was each team's total xg?\n",
    "### c) What do these two answers tell us about how the two teams played?"
   ]
  },
  {
   "cell_type": "markdown",
   "id": "10b879a4",
   "metadata": {},
   "source": [
    "## A1)\n",
    "### a)\n",
    "### b)\n",
    "### c)"
   ]
  },
  {
   "cell_type": "code",
   "execution_count": null,
   "id": "cd930532",
   "metadata": {
    "scrolled": true
   },
   "outputs": [],
   "source": []
  },
  {
   "cell_type": "markdown",
   "id": "3ceee930",
   "metadata": {},
   "source": [
    "## Q2)\n",
    "### a) Which possessionid had the highest total successful passes? \n",
    "### b) How many successful passes were there and why do you think this specific possession had so many?"
   ]
  },
  {
   "cell_type": "markdown",
   "id": "6c191162",
   "metadata": {},
   "source": [
    "## A2) \n",
    "### a)\n",
    "### b)"
   ]
  },
  {
   "cell_type": "code",
   "execution_count": null,
   "id": "c08bdc85",
   "metadata": {
    "scrolled": true
   },
   "outputs": [],
   "source": []
  },
  {
   "cell_type": "markdown",
   "id": "bd50c34d",
   "metadata": {},
   "source": [
    "## Q3)\n",
    "### a) Using the event data provided along with x/y coordinate columns, can you identify the likely xCoord of each blueline?"
   ]
  },
  {
   "cell_type": "markdown",
   "id": "20941a95",
   "metadata": {},
   "source": [
    "## A3)\n",
    "### a)"
   ]
  },
  {
   "cell_type": "code",
   "execution_count": null,
   "id": "154e09ed",
   "metadata": {},
   "outputs": [],
   "source": []
  },
  {
   "cell_type": "markdown",
   "id": "15e4e1f4",
   "metadata": {},
   "source": [
    "## Q4)\n",
    "### a) Create a subset of all shot attempts in the game and then with the plotting library of your choice, produce one scatter plot per team to illustrate where their shots were located and highlight any goals that were scored.\n",
    "### b) Describe in 2-4 sentences your findings for each team."
   ]
  },
  {
   "cell_type": "markdown",
   "id": "0ad99b06",
   "metadata": {},
   "source": [
    "## A4)\n",
    "### a)\n",
    "### b)"
   ]
  },
  {
   "cell_type": "code",
   "execution_count": null,
   "id": "639a3519",
   "metadata": {},
   "outputs": [],
   "source": []
  },
  {
   "cell_type": "markdown",
   "id": "c42be5fc",
   "metadata": {},
   "source": [
    "## Q5)\n",
    "### a) If the centre of the net that teams shoot at is located at xCoord=89, yCoord=0, create a column for the distance from each shot to this point. What is the distance of the furthest goal scored in the game?\n",
    "### b) What is the expected goals (xg) value of this furthest goal and what do you think contributed to this xg value?"
   ]
  },
  {
   "cell_type": "markdown",
   "id": "230ee416",
   "metadata": {},
   "source": [
    "## A5)\n",
    "### a)\n",
    "### b)"
   ]
  },
  {
   "cell_type": "code",
   "execution_count": null,
   "id": "7b9c6e2d",
   "metadata": {},
   "outputs": [],
   "source": []
  },
  {
   "cell_type": "markdown",
   "id": "7fd43684",
   "metadata": {},
   "source": [
    "## Q6)\n",
    "### a) If a \"Shot Assist\" is defined as a sequence of events with the same possessionid where there is: 1) a successful pass followed by 2) a successful reception by a teammate and then without giving up the puck 3) the receiving player has a shot attempt, create a column flagging shots that have a Shot Assist. Which player(s) had the most assisted shots in the game and how many assisted shots did they have?\n",
    "\n",
    "### Hint: This can be done using iterrows() or using shift() logic. Consider if you should include ALL event rows and beware of sorting!"
   ]
  },
  {
   "cell_type": "markdown",
   "id": "c60cf07b",
   "metadata": {},
   "source": [
    "## A6)\n",
    "### a)"
   ]
  },
  {
   "cell_type": "code",
   "execution_count": null,
   "id": "652b0c8f",
   "metadata": {},
   "outputs": [],
   "source": []
  },
  {
   "cell_type": "markdown",
   "id": "c6779d7f",
   "metadata": {},
   "source": [
    "## Q7)\n",
    "### a) What is highest xg among the goals that were scored and why do you think it was this high? \n",
    "### b) Did this goal have a shot assist?"
   ]
  },
  {
   "cell_type": "markdown",
   "id": "b13b8f8b",
   "metadata": {},
   "source": [
    "## A7)\n",
    "### a)\n",
    "### b)"
   ]
  },
  {
   "cell_type": "code",
   "execution_count": null,
   "id": "00833bad",
   "metadata": {},
   "outputs": [],
   "source": []
  },
  {
   "cell_type": "markdown",
   "id": "78a1e7c5",
   "metadata": {},
   "source": [
    "## Q8) \n",
    "### a) Consider other shots with high xg values, without engineering any additional features (aside from the columns you've already been asked to create in the questions above), use a statistical technique of your choice to show the highest predictors of a goal within this dataset.\n",
    "### b) Please explain your reasoning for choosing this technique and explain your findings\n",
    "\n",
    "### Hint: look back at the columns you were asked to create, along with the columns already provided in the event dataset, what would lead to dangerous shot attempts?"
   ]
  },
  {
   "cell_type": "markdown",
   "id": "16fba9ea",
   "metadata": {},
   "source": [
    "## A8)\n",
    "### a)\n",
    "### b)"
   ]
  },
  {
   "cell_type": "code",
   "execution_count": null,
   "id": "41ff1fbd",
   "metadata": {},
   "outputs": [],
   "source": []
  },
  {
   "cell_type": "markdown",
   "id": "720c25a5",
   "metadata": {},
   "source": [
    "# Before you submit:"
   ]
  },
  {
   "cell_type": "markdown",
   "id": "5ef70791",
   "metadata": {},
   "source": [
    "Please check that you have answered all questions (and sub-questions) to the best of your ability and that every answer can be clearly traced back to work that is shown. If you were unable to produce an answer, please describe and show the work you tried.\n",
    "\n",
    "Thanks for your time, effort and interest!"
   ]
  }
 ],
 "metadata": {
  "kernelspec": {
   "display_name": "Python 3",
   "language": "python",
   "name": "python3"
  },
  "language_info": {
   "codemirror_mode": {
    "name": "ipython",
    "version": 3
   },
   "file_extension": ".py",
   "mimetype": "text/x-python",
   "name": "python",
   "nbconvert_exporter": "python",
   "pygments_lexer": "ipython3",
   "version": "3.6.9"
  }
 },
 "nbformat": 4,
 "nbformat_minor": 5
}
